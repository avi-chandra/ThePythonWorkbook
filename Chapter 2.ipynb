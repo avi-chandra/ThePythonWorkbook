{
 "cells": [
  {
   "cell_type": "code",
   "execution_count": 2,
   "metadata": {},
   "outputs": [
    {
     "name": "stdout",
     "output_type": "stream",
     "text": [
      "Please enter a number - 6\n",
      "6 is even\n"
     ]
    }
   ],
   "source": [
    "#Even or Odd\n",
    "\n",
    "num = int(input('Please enter a number - '))\n",
    "\n",
    "if num % 2 ==0:\n",
    "    print('{} is even'.format(num))\n",
    "else:\n",
    "    print('{} is odd'.format(num))"
   ]
  },
  {
   "cell_type": "code",
   "execution_count": 16,
   "metadata": {},
   "outputs": [
    {
     "name": "stdout",
     "output_type": "stream",
     "text": [
      "Enter human years in number : -5\n",
      "Human Year can't be negative or zero\n"
     ]
    }
   ],
   "source": [
    "#Dog Years\n",
    "num = int(input(\"Enter human years in number : \"))\n",
    "\n",
    "if num<=0:\n",
    "    print(\"Human Year can't be negative or zero\")\n",
    "else:\n",
    "    if num < 2:\n",
    "        print(\"7 Dog years\")\n",
    "    elif num == 2:\n",
    "        print(\"10.5 dog years\")\n",
    "    else:\n",
    "        dogyr = 10.5\n",
    "        for i in range(0, num-2):\n",
    "            dogyr +=4\n",
    "        print(f\"{dogyr} dog years\")"
   ]
  },
  {
   "cell_type": "code",
   "execution_count": 19,
   "metadata": {},
   "outputs": [
    {
     "name": "stdout",
     "output_type": "stream",
     "text": [
      "Enter any alphabetic letter - y\n",
      "sometimes y is a vowel, and sometimes y is a consonant\n"
     ]
    }
   ],
   "source": [
    "#Vowel or Constant\n",
    "character = input(\"Enter any alphabetic letter - \")\n",
    "\n",
    "if character.lower() in {'a','e','i','o','u'}:\n",
    "    print(\"Entered letter is a vowel\")\n",
    "if character.lower() == 'y':\n",
    "    print(\"sometimes y is a vowel, and sometimes y is a consonant\")\n",
    "if character.lower() not in {'a','e','i','o','u','y'}:\n",
    "    print(\"Entered letter is a consonant\")"
   ]
  },
  {
   "cell_type": "code",
   "execution_count": 22,
   "metadata": {},
   "outputs": [
    {
     "name": "stdout",
     "output_type": "stream",
     "text": [
      "Enter the length of field in feet - february\n",
      "Entered month has a 28 or 29 days\n"
     ]
    }
   ],
   "source": [
    "#Month Name to Number of Days\n",
    "month = input(\"Enter the length of field in feet - \")\n",
    "\n",
    "if month.lower() in {'jauary','march','may','july','august','october','december'}:\n",
    "    print(\"Entered month has a 31 days\")\n",
    "if month.lower() == 'february':\n",
    "    print(\"Entered month has a 28 or 29 days\")\n",
    "if month.lower() in {'april','june','september','november'}:\n",
    "    print(\"Entered month has a 30 days\")"
   ]
  },
  {
   "cell_type": "code",
   "execution_count": 27,
   "metadata": {},
   "outputs": [
    {
     "name": "stdout",
     "output_type": "stream",
     "text": [
      "Enter position - b6\n",
      "square is black\n"
     ]
    }
   ],
   "source": [
    "#What Color is that Square?\n",
    "position = input(\"Enter position - \")\n",
    "\n",
    "if (position[0] in {'a','c','e','g'} and int(position[1])%2 != 0) or (position[0] in {'b','d','f','h'} and int(position[1])%2 == 0):\n",
    "    print('square is black')\n",
    "else:\n",
    "    print('square is white')"
   ]
  }
 ],
 "metadata": {
  "kernelspec": {
   "display_name": "Python 3",
   "language": "python",
   "name": "python3"
  },
  "language_info": {
   "codemirror_mode": {
    "name": "ipython",
    "version": 3
   },
   "file_extension": ".py",
   "mimetype": "text/x-python",
   "name": "python",
   "nbconvert_exporter": "python",
   "pygments_lexer": "ipython3",
   "version": "3.7.1"
  }
 },
 "nbformat": 4,
 "nbformat_minor": 2
}
