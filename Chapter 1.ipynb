{
 "cells": [
  {
   "cell_type": "code",
   "execution_count": 7,
   "metadata": {},
   "outputs": [
    {
     "name": "stdout",
     "output_type": "stream",
     "text": [
      "Recepients Name\n",
      "Recepients Address Line 1\n",
      "Recepients Address Line 2\n",
      "Recepients City state & zip\n"
     ]
    }
   ],
   "source": [
    "#Mailing Address\n",
    "\n",
    "print('Recepients Name','Recepients Address Line 1','Recepients Address Line 2','Recepients City state & zip', sep='\\n')"
   ]
  },
  {
   "cell_type": "code",
   "execution_count": 9,
   "metadata": {},
   "outputs": [
    {
     "name": "stdout",
     "output_type": "stream",
     "text": [
      "Please enter your name - User\n",
      "Hello User!\n"
     ]
    }
   ],
   "source": [
    "#Hello\n",
    "name = input('Please enter your name - ')\n",
    "print('Hello {}!'.format(name))"
   ]
  },
  {
   "cell_type": "code",
   "execution_count": 11,
   "metadata": {},
   "outputs": [
    {
     "name": "stdout",
     "output_type": "stream",
     "text": [
      "Enter the length of room in feet - 20\n",
      "Enter the width of room in feet - 25\n",
      "500.0 sqfeet\n"
     ]
    }
   ],
   "source": [
    "#Area of a Room\n",
    "length = float(input(\"Enter the length of room in feet - \"))\n",
    "width = float(input(\"Enter the width of room in feet - \"))\n",
    "\n",
    "print('{} sqfeet'.format(length * width))"
   ]
  },
  {
   "cell_type": "code",
   "execution_count": 17,
   "metadata": {},
   "outputs": [
    {
     "name": "stdout",
     "output_type": "stream",
     "text": [
      "Enter the length of field in feet - 25\n",
      "Enter the width of field in feet - 10\n",
      "0.00573921 acre\n"
     ]
    }
   ],
   "source": [
    "#Area of a Field\n",
    "length = float(input(\"Enter the length of field in feet - \"))\n",
    "width = float(input(\"Enter the width of field in feet - \"))\n",
    "\n",
    "print('{:.8f} acre'.format((length * width)/43560))"
   ]
  },
  {
   "cell_type": "code",
   "execution_count": 19,
   "metadata": {},
   "outputs": [
    {
     "name": "stdout",
     "output_type": "stream",
     "text": [
      "Enter the number of containers less than or equal to one liter - 20\n",
      "Enter the number of containers greater than one liter - 16\n",
      "You will receive refund of $6.00\n"
     ]
    }
   ],
   "source": [
    "#Bottle Deposits\n",
    "small_bottle = float(input(\"Enter the number of containers less than or equal to one liter - \"))\n",
    "large_bottle = float(input(\"Enter the number of containers greater than one liter - \"))\n",
    "\n",
    "print('You will receive refund of ${:.2f}'.format((small_bottle * 0.10) + (large_bottle * 0.25)))"
   ]
  },
  {
   "cell_type": "code",
   "execution_count": 20,
   "metadata": {},
   "outputs": [
    {
     "name": "stdout",
     "output_type": "stream",
     "text": [
      "Enter the cost of a meal ordered - 500\n",
      "500.0\n",
      "25.0\n",
      "90.0\n",
      "615.0\n"
     ]
    }
   ],
   "source": [
    "#Tax and Tip\n",
    "meal_cost = float(input(\"Enter the cost of a meal ordered - \"))\n",
    "tax = meal_cost * 0.05\n",
    "tip = meal_cost * 0.18\n",
    "total = meal_cost + tax + tip\n",
    "\n",
    "print(meal_cost, tax, tip, total, sep='\\n')"
   ]
  },
  {
   "cell_type": "code",
   "execution_count": 22,
   "metadata": {},
   "outputs": [
    {
     "name": "stdout",
     "output_type": "stream",
     "text": [
      "Enter the positive integer n - 9\n"
     ]
    },
    {
     "data": {
      "text/plain": [
       "45"
      ]
     },
     "execution_count": 22,
     "metadata": {},
     "output_type": "execute_result"
    }
   ],
   "source": [
    "#sum of first n positive numbers\n",
    "num = abs(int(input(\"Enter the positive integer n - \")))\n",
    "\n",
    "sum(list(range(1,num+1)))"
   ]
  },
  {
   "cell_type": "code",
   "execution_count": 24,
   "metadata": {},
   "outputs": [
    {
     "name": "stdout",
     "output_type": "stream",
     "text": [
      "Enter the total count of widgets - 10\n",
      "Enter the total count of gizmo - 20\n",
      "Total weight of the order 2990\n"
     ]
    }
   ],
   "source": [
    "#Widgets and Gizmos\n",
    "widgets = int(input(\"Enter the total count of widgets - \"))\n",
    "gizmo = int(input(\"Enter the total count of gizmo - \"))\n",
    "\n",
    "print('Total weight of the order {}'.format((widgets * 75) + (gizmo * 112)))"
   ]
  },
  {
   "cell_type": "code",
   "execution_count": 25,
   "metadata": {},
   "outputs": [
    {
     "name": "stdout",
     "output_type": "stream",
     "text": [
      "Enter the account openning deposit amount - 500\n",
      "After 1 year 520.00 \n",
      "After 2 year 562.43 \n",
      "After 3 year 632.66 \n"
     ]
    }
   ],
   "source": [
    "#Compound Intrest\n",
    "amount = int(input(\"Enter the account openning deposit amount - \"))\n",
    "\n",
    "amt1 = amount + (amount*0.04)\n",
    "amt2 = amt1 + (amt1 * (((1+0.04) ** 2) - 1))\n",
    "amt3 = amt2 + (amt2 * (((1+0.04) ** 3) - 1))\n",
    "\n",
    "\n",
    "\n",
    "print('After 1 year {:.2f} '.format(amt1))\n",
    "print('After 2 year {:.2f} '.format(amt2))\n",
    "print('After 3 year {:.2f} '.format(amt3))"
   ]
  },
  {
   "cell_type": "code",
   "execution_count": 3,
   "metadata": {},
   "outputs": [
    {
     "name": "stdout",
     "output_type": "stream",
     "text": [
      "Enter first number : 5\n",
      "Enter second number : 2\n",
      "Sum Operation 7\n",
      "Difference Operation -3\n",
      "Multiply Operation 10\n",
      "Division Operation 2.5\n",
      "Modulus Operation 1\n",
      "log Operation 0.6989700043360189\n",
      "result of a power b 25\n"
     ]
    }
   ],
   "source": [
    "#Airthmetic\n",
    "import math\n",
    "\n",
    "a = int(input(\"Enter first number : \"))\n",
    "b = int(input(\"Enter second number : \"))\n",
    "\n",
    "print('Sum Operation {}'.format(a+b))\n",
    "print('Difference Operation {}'.format(b-a))\n",
    "print('Multiply Operation {}'.format(a*b))\n",
    "print('Division Operation {}'.format(a/b))\n",
    "print('Modulus Operation {}'.format(a%b))\n",
    "print('log Operation {}'.format(math.log10(a)))\n",
    "print('result of a power b {}'.format(a**b))"
   ]
  },
  {
   "cell_type": "code",
   "execution_count": 17,
   "metadata": {},
   "outputs": [
    {
     "name": "stdout",
     "output_type": "stream",
     "text": [
      "Enter Fuel Efficiency in MPG : 10\n",
      "In Canada your fuel efficiency will be 23.62 L/100km\n"
     ]
    }
   ],
   "source": [
    "#Fuel Efficiency\n",
    "\n",
    "a = int(input(\"Enter Fuel Efficiency in MPG : \"))\n",
    "conversion = 1.60/3.78\n",
    "\n",
    "print(\"In Canada your fuel efficiency will be {:.2f} L/100km\".format(100/(a * conversion)))"
   ]
  },
  {
   "cell_type": "code",
   "execution_count": 26,
   "metadata": {},
   "outputs": [
    {
     "name": "stdout",
     "output_type": "stream",
     "text": [
      "Enter space separated the lat long eg 28.03 32.26 : 28.7041 77.1025\n",
      "Enter space separated the lat long eg 28.03 32.26 : 28.4595 77.0266\n",
      "Distance between given lat long points is 28.1900 km\n"
     ]
    }
   ],
   "source": [
    "#Distance between two points on earth\n",
    "import math\n",
    "\n",
    "lat1,long1 = list(map(float,input(\"Enter space separated the lat long eg 28.03 32.26 : \").split(' ')))\n",
    "lat2,long2 = list(map(float,input(\"Enter space separated the lat long eg 28.03 32.26 : \").split(' ')))\n",
    "\n",
    "rlat1 = math.radians(lat1)\n",
    "rlat2 = math.radians(lat2)\n",
    "rlong1 = math.radians(long1)\n",
    "rlong2 = math.radians(long2)\n",
    "\n",
    "distance = 6371.01 * math.acos((math.sin(rlat1) * math.sin(rlat2)) +\\\n",
    "                                  (math.cos(rlat1) * math.cos(rlat2) * math.cos(rlong1-rlong2)))\n",
    "\n",
    "print('Distance between given lat long points is {:.4f} km'.format(distance))"
   ]
  },
  {
   "cell_type": "code",
   "execution_count": 1,
   "metadata": {},
   "outputs": [
    {
     "name": "stdout",
     "output_type": "stream",
     "text": [
      "Enter height in feet inch formatusing space separated eg for 5feet 5 inch => 5 5 : 5 0\n",
      "Your height in centimeter is 152.4 cm\n"
     ]
    }
   ],
   "source": [
    "#Height Units\n",
    "ft,inch = list(map(int, input(\"Enter height in feet inch format\\\n",
    "using space separated eg for 5feet 5 inch => 5 5 : \").split(' ')))\n",
    "\n",
    "height = (ft*12+inch)*2.54\n",
    "\n",
    "print(\"Your height in centimeter is {} cm\".format(height))"
   ]
  },
  {
   "cell_type": "code",
   "execution_count": 2,
   "metadata": {},
   "outputs": [
    {
     "name": "stdout",
     "output_type": "stream",
     "text": [
      "Enter measurement in feet : 1\n",
      "Measurement in inches is 12.0 in\n",
      "Measurement in yards is 0.3333333333333333 yd\n",
      "Measurement in miles is 0.0001893939393939394 mile\n"
     ]
    }
   ],
   "source": [
    "#Distance Units\n",
    "ft = float(input(\"Enter measurement in feet : \"))\n",
    "\n",
    "inches = ft*12\n",
    "yard = ft/3\n",
    "miles = ft/5280\n",
    "\n",
    "print(\"Measurement in inches is {} in\".format(inches))\n",
    "print(\"Measurement in yards is {} yd\".format(yard))\n",
    "print(\"Measurement in miles is {} mile\".format(miles))"
   ]
  },
  {
   "cell_type": "code",
   "execution_count": 5,
   "metadata": {},
   "outputs": [
    {
     "name": "stdout",
     "output_type": "stream",
     "text": [
      "Enter radius : 10\n",
      "Area of circle is 314.1592653589793\n",
      "Volume of sphere 4188.790204786391\n"
     ]
    }
   ],
   "source": [
    "#Area and Volume\n",
    "import math\n",
    "\n",
    "radius = float(input(\"Enter radius : \"))\n",
    "\n",
    "print(\"Area of circle is {}\".format(math.pi * math.pow(radius,2)))\n",
    "print(\"Volume of sphere {}\".format((4/3) * math.pi * math.pow(radius,3)))"
   ]
  },
  {
   "cell_type": "code",
   "execution_count": 6,
   "metadata": {},
   "outputs": [
    {
     "name": "stdout",
     "output_type": "stream",
     "text": [
      "Enter mass of water : 100\n",
      "Enter temperature change required : 50\n",
      "Energy required 20930.0\n",
      "Cost of Electricity 0.051743611111111115 cents\n"
     ]
    }
   ],
   "source": [
    "#Heat Capacity\n",
    "m = float(input(\"Enter mass of water : \"))\n",
    "T = float(input(\"Enter temperature change required : \"))\n",
    "C = 4.186\n",
    "\n",
    "q = m*C*T\n",
    "\n",
    "bill = (q/3600000)*8.9\n",
    "print('Energy required {}'.format(q))\n",
    "print('Cost of Electricity {} cents'.format(bill))"
   ]
  },
  {
   "cell_type": "code",
   "execution_count": 7,
   "metadata": {},
   "outputs": [
    {
     "name": "stdout",
     "output_type": "stream",
     "text": [
      "Enter radius of cylinder : 5\n",
      "Enter height of cylinder : 10\n",
      "Volume of cylinder 785.3981633974483\n"
     ]
    }
   ],
   "source": [
    "#Volume of a Cylinder\n",
    "r = float(input(\"Enter radius of cylinder : \"))\n",
    "h = float(input(\"Enter height of cylinder : \"))\n",
    "vol = math.pi * math.pow(r,2) * h\n",
    "\n",
    "print('Volume of cylinder {}'.format(vol))"
   ]
  },
  {
   "cell_type": "code",
   "execution_count": 9,
   "metadata": {},
   "outputs": [
    {
     "name": "stdout",
     "output_type": "stream",
     "text": [
      "Enter height from which ball will be dropped : 10\n",
      "Final velocity of ball when it hits the ground 14.0 m/s2\n"
     ]
    }
   ],
   "source": [
    "#Free Fall\n",
    "h = float(input(\"Enter height from which ball will be dropped : \"))\n",
    "\n",
    "vi = 0\n",
    "\n",
    "vf = math.sqrt(math.pow(vi,2) + (2*9.8*h))\n",
    "\n",
    "print(\"Final velocity of ball when it hits the ground {} m/s2\".format(vf))"
   ]
  },
  {
   "cell_type": "code",
   "execution_count": null,
   "metadata": {},
   "outputs": [],
   "source": [
    "#Ideal Gas Law\n"
   ]
  }
 ],
 "metadata": {
  "kernelspec": {
   "display_name": "Python 3",
   "language": "python",
   "name": "python3"
  },
  "language_info": {
   "codemirror_mode": {
    "name": "ipython",
    "version": 3
   },
   "file_extension": ".py",
   "mimetype": "text/x-python",
   "name": "python",
   "nbconvert_exporter": "python",
   "pygments_lexer": "ipython3",
   "version": "3.7.1"
  }
 },
 "nbformat": 4,
 "nbformat_minor": 2
}
