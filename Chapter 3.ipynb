{
 "cells": [
  {
   "cell_type": "code",
   "execution_count": 4,
   "metadata": {},
   "outputs": [
    {
     "name": "stdout",
     "output_type": "stream",
     "text": [
      "invalid literal for int() with base 10: 'a' Incorrect Value\n",
      "invalid literal for int() with base 10: 'r' Incorrect Value\n",
      "Average Marks : 21.25\n"
     ]
    }
   ],
   "source": [
    "##Exercise 63 - Average\n",
    "marks_list = []\n",
    "while True:\n",
    "    user_input = input()\n",
    "    try:\n",
    "        user_input = int(user_input)\n",
    "        if user_input != 0:\n",
    "            marks_list.append(user_input)\n",
    "        else:\n",
    "            break\n",
    "    except Exception as err:\n",
    "        print(err, \"Incorrect Value\")\n",
    "if len(marks_list) != 0:\n",
    "    print(f\"Entered Marks : {marks_list}\")\n",
    "    print(f\"Average Marks : {sum(marks_list)/len(marks_list)}\")\n",
    "else:\n",
    "    print(\"No Marks From User to Compute Average\")"
   ]
  },
  {
   "cell_type": "code",
   "execution_count": 27,
   "metadata": {},
   "outputs": [
    {
     "name": "stdout",
     "output_type": "stream",
     "text": [
      "Exercise 64 - Discount Table\n",
      "╒══════════════════╤════════════════════╤════════════╕\n",
      "│ original_price   │ discounted_price   │ discount   │\n",
      "╞══════════════════╪════════════════════╪════════════╡\n",
      "│ $ 4.95           │ $ 1.98             │ 60 %       │\n",
      "├──────────────────┼────────────────────┼────────────┤\n",
      "│ $ 9.95           │ $ 3.98             │ 60 %       │\n",
      "├──────────────────┼────────────────────┼────────────┤\n",
      "│ $ 14.95          │ $ 5.98             │ 60 %       │\n",
      "├──────────────────┼────────────────────┼────────────┤\n",
      "│ $ 19.95          │ $ 7.98             │ 60 %       │\n",
      "├──────────────────┼────────────────────┼────────────┤\n",
      "│ $ 24.95          │ $ 9.98             │ 60 %       │\n",
      "╘══════════════════╧════════════════════╧════════════╛\n",
      "\n",
      "Exercise 65: Temperature Conversion Table\n",
      "╒═══════════╤════════════╕\n",
      "│   Celcius │   Frenheit │\n",
      "╞═══════════╪════════════╡\n",
      "│         0 │         32 │\n",
      "├───────────┼────────────┤\n",
      "│        10 │         50 │\n",
      "├───────────┼────────────┤\n",
      "│        20 │         68 │\n",
      "├───────────┼────────────┤\n",
      "│        30 │         86 │\n",
      "├───────────┼────────────┤\n",
      "│        40 │        104 │\n",
      "├───────────┼────────────┤\n",
      "│        50 │        122 │\n",
      "├───────────┼────────────┤\n",
      "│        60 │        140 │\n",
      "├───────────┼────────────┤\n",
      "│        70 │        158 │\n",
      "├───────────┼────────────┤\n",
      "│        80 │        176 │\n",
      "├───────────┼────────────┤\n",
      "│        90 │        194 │\n",
      "├───────────┼────────────┤\n",
      "│       100 │        212 │\n",
      "╘═══════════╧════════════╛\n"
     ]
    }
   ],
   "source": [
    "print(\"Exercise 64 - Discount Table\")\n",
    "\n",
    "#install tabulate \n",
    "#!pip install tabulate\n",
    "from tabulate import tabulate\n",
    "price_list = [4.95, 9.95, 14.95, 19.95, 24.95]\n",
    "table = [['original_price','discounted_price', 'discount']]\n",
    "discount_pct = 60\n",
    "for price in price_list:\n",
    "    discounted_price = price - (price * (discount_pct/100))\n",
    "    table.append([f\"$ {price}\", f\"$ {discounted_price:.2f}\", f\"{discount_pct} %\"])\n",
    "print(tabulate(table, headers='firstrow', tablefmt='fancy_grid'))\n",
    "print()\n",
    "print(\"Exercise 65: Temperature Conversion Table\")\n",
    "\n",
    "conversion_temp = lambda x:[x, (x * 1.8) + 32]\n",
    "converted_temp = list(map(conversion_temp, list(range(0, 110, 10))))\n",
    "converted_temp.insert(0,['Celcius', 'Frenheit'])\n",
    "print(tabulate(converted_temp, headers='firstrow', tablefmt='fancy_grid'))"
   ]
  },
  {
   "cell_type": "code",
   "execution_count": 24,
   "metadata": {},
   "outputs": [
    {
     "name": "stdout",
     "output_type": "stream",
     "text": [
      "╒═══════════╤════════════╕\n",
      "│   Celcius │   Frenheit │\n",
      "╞═══════════╪════════════╡\n",
      "│         0 │         32 │\n",
      "├───────────┼────────────┤\n",
      "│        10 │         50 │\n",
      "├───────────┼────────────┤\n",
      "│        20 │         68 │\n",
      "├───────────┼────────────┤\n",
      "│        30 │         86 │\n",
      "├───────────┼────────────┤\n",
      "│        40 │        104 │\n",
      "├───────────┼────────────┤\n",
      "│        50 │        122 │\n",
      "├───────────┼────────────┤\n",
      "│        60 │        140 │\n",
      "├───────────┼────────────┤\n",
      "│        70 │        158 │\n",
      "├───────────┼────────────┤\n",
      "│        80 │        176 │\n",
      "├───────────┼────────────┤\n",
      "│        90 │        194 │\n",
      "├───────────┼────────────┤\n",
      "│       100 │        212 │\n",
      "╘═══════════╧════════════╛\n"
     ]
    }
   ],
   "source": []
  },
  {
   "cell_type": "code",
   "execution_count": 16,
   "metadata": {},
   "outputs": [
    {
     "data": {
      "text/plain": [
       "[0]"
      ]
     },
     "execution_count": 16,
     "metadata": {},
     "output_type": "execute_result"
    }
   ],
   "source": [
    "list(range(0,2,10))"
   ]
  }
 ],
 "metadata": {
  "kernelspec": {
   "display_name": "Python 3",
   "language": "python",
   "name": "python3"
  },
  "language_info": {
   "codemirror_mode": {
    "name": "ipython",
    "version": 3
   },
   "file_extension": ".py",
   "mimetype": "text/x-python",
   "name": "python",
   "nbconvert_exporter": "python",
   "pygments_lexer": "ipython3",
   "version": "3.10.6"
  },
  "orig_nbformat": 4
 },
 "nbformat": 4,
 "nbformat_minor": 2
}
