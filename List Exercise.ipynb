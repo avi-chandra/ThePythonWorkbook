{
 "cells": [
  {
   "cell_type": "code",
   "execution_count": 15,
   "metadata": {},
   "outputs": [
    {
     "name": "stdout",
     "output_type": "stream",
     "text": [
      "Enter integer value, and Enter 0 to stop : 2\n",
      "Enter integer value, and Enter 0 to stop : 5\n",
      "Enter integer value, and Enter 0 to stop : 6\n",
      "Enter integer value, and Enter 0 to stop : 1\n",
      "Enter integer value, and Enter 0 to stop : 4\n",
      "Enter integer value, and Enter 0 to stop : 98\n",
      "Enter integer value, and Enter 0 to stop : 57\n",
      "Enter integer value, and Enter 0 to stop : 25\n",
      "Enter integer value, and Enter 0 to stop : 0\n",
      "1\n",
      "2\n",
      "4\n",
      "5\n",
      "6\n",
      "25\n",
      "57\n",
      "98\n"
     ]
    }
   ],
   "source": [
    "#sorted order\n",
    "\n",
    "flag = True\n",
    "num_list = []\n",
    "while flag:\n",
    "    num = int(input(\"Enter integer value, and Enter 0 to stop : \"))\n",
    "    if num != 0:\n",
    "        num_list.append(num)\n",
    "    else:\n",
    "        flag= False\n",
    "\n",
    "num_list = sorted(num_list)\n",
    "print(*num_list, sep='\\n')"
   ]
  },
  {
   "cell_type": "code",
   "execution_count": 18,
   "metadata": {},
   "outputs": [
    {
     "name": "stdout",
     "output_type": "stream",
     "text": [
      "Enter integer value, and Enter 0 to stop : 1\n",
      "Enter integer value, and Enter 0 to stop : 2\n",
      "Enter integer value, and Enter 0 to stop : 3\n",
      "Enter integer value, and Enter 0 to stop : 5\n",
      "Enter integer value, and Enter 0 to stop : 6\n",
      "Enter integer value, and Enter 0 to stop : 0\n",
      "6\n",
      "5\n",
      "3\n",
      "2\n",
      "1\n"
     ]
    }
   ],
   "source": [
    "#Reverse Order\n",
    "\n",
    "flag = True\n",
    "num_list = []\n",
    "while flag:\n",
    "    num = int(input(\"Enter integer value, and Enter 0 to stop : \"))\n",
    "    if num != 0:\n",
    "        num_list.append(num)\n",
    "    else:\n",
    "        flag= False\n",
    "\n",
    "num_list = list(reversed(num_list))\n",
    "print(*num_list, sep='\\n')"
   ]
  },
  {
   "cell_type": "code",
   "execution_count": 24,
   "metadata": {},
   "outputs": [
    {
     "name": "stdout",
     "output_type": "stream",
     "text": [
      "Enter space separated minimum 4 integer values : 1 2\n",
      "Please enter at least 4 values\n",
      "Enter space separated minimum 4 integer values : 1 2 6 5 8 4\n",
      "original list [1, 2, 6, 5, 8, 4]\n",
      "outliers removed list [4, 5]\n"
     ]
    }
   ],
   "source": [
    "#Remove Outliers\n",
    "\n",
    "flag = True\n",
    "while flag:\n",
    "    num_list = list(map(int , input(\"Enter space separated minimum 4 integer values : \").split(' ')))\n",
    "    if len(num_list) >= 4:\n",
    "        flag= False\n",
    "    else:\n",
    "        print(\"Please enter at least 4 values\")\n",
    "\n",
    "new_list = sorted(num_list)\n",
    "print(\"original list {}\".format(num_list))\n",
    "print(\"outliers removed list {}\".format(new_list[2:-2]))                    "
   ]
  },
  {
   "cell_type": "code",
   "execution_count": 69,
   "metadata": {},
   "outputs": [
    {
     "name": "stdout",
     "output_type": "stream",
     "text": [
      "Enter words, to stop press enter without any letter : first\n",
      "Enter words, to stop press enter without any letter : second\n",
      "Enter words, to stop press enter without any letter : first\n",
      "Enter words, to stop press enter without any letter : third\n",
      "Enter words, to stop press enter without any letter : second\n",
      "Enter words, to stop press enter without any letter : \n",
      "first\n",
      "second\n",
      "third\n"
     ]
    }
   ],
   "source": [
    "#Avoiding Duplicates\n",
    "\n",
    "flag = True\n",
    "words_set = []\n",
    "while flag:\n",
    "    words = input(\"Enter words, to stop press enter without any letter : \")\n",
    "    if words != '':\n",
    "        words_set.append(words)\n",
    "    else:\n",
    "        flag= False\n",
    "\n",
    "temp = set()\n",
    "print(*[i for i in words_set if not (i in temp or temp.add(i))], sep='\\n')             "
   ]
  },
  {
   "cell_type": "code",
   "execution_count": 5,
   "metadata": {},
   "outputs": [
    {
     "name": "stdout",
     "output_type": "stream",
     "text": [
      "Enter integer value, to stop press enter without any value : 3\n",
      "Enter integer value, to stop press enter without any value : -4\n",
      "Enter integer value, to stop press enter without any value : 1\n",
      "Enter integer value, to stop press enter without any value : 0\n",
      "Enter integer value, to stop press enter without any value : -1\n",
      "Enter integer value, to stop press enter without any value : 0\n",
      "Enter integer value, to stop press enter without any value : -2\n",
      "Enter integer value, to stop press enter without any value : \n",
      "-4\n",
      "-1\n",
      "-2\n",
      "0\n",
      "0\n",
      "3\n",
      "1\n"
     ]
    }
   ],
   "source": [
    "#Negatives,Zeros and Positives\n",
    "\n",
    "flag = True\n",
    "num_list = []\n",
    "while flag:\n",
    "    num = input(\"Enter integer value, to stop press enter without any value : \")\n",
    "    if num != '':\n",
    "        num_list.append(int(num))\n",
    "    else:\n",
    "        flag= False\n",
    "\n",
    "# neagtive = \n",
    "print(*[i for i in num_list if i < 0], sep='\\n')\n",
    "print(*[i for i in num_list if i == 0], sep='\\n')\n",
    "print(*[i for i in num_list if i > 0], sep='\\n')       "
   ]
  },
  {
   "cell_type": "code",
   "execution_count": 18,
   "metadata": {},
   "outputs": [
    {
     "name": "stdout",
     "output_type": "stream",
     "text": [
      "Enter integer value : 28\n"
     ]
    },
    {
     "data": {
      "text/plain": [
       "[1, 2, 4, 7, 14]"
      ]
     },
     "execution_count": 18,
     "metadata": {},
     "output_type": "execute_result"
    }
   ],
   "source": [
    "#List of Proper Divisors\n",
    "\n",
    "num = int(input(\"Enter integer value : \"))\n",
    "\n",
    "def common_divisors(n):\n",
    "    for i in range(1, n-1):\n",
    "        if n%i == 0:\n",
    "            yield i\n",
    "        \n",
    "list(common_divisors(num))"
   ]
  },
  {
   "cell_type": "code",
   "execution_count": 21,
   "metadata": {},
   "outputs": [
    {
     "name": "stdout",
     "output_type": "stream",
     "text": [
      "Enter integer value : 28\n",
      "True\n"
     ]
    }
   ],
   "source": [
    "#Perfect Numbers\n",
    "\n",
    "num = int(input(\"Enter integer value : \"))\n",
    "\n",
    "if sum(list(common_divisors(num))) == num:\n",
    "    print(True)\n",
    "else:\n",
    "    print(False)"
   ]
  },
  {
   "cell_type": "code",
   "execution_count": 25,
   "metadata": {},
   "outputs": [
    {
     "name": "stdout",
     "output_type": "stream",
     "text": [
      "6 is perfect number\n",
      "28 is perfect number\n",
      "496 is perfect number\n",
      "8128 is perfect number\n"
     ]
    }
   ],
   "source": [
    "# identify and display all of the perfect numbers between 1 and 10,000\n",
    "\n",
    "for num in range(1, 10001):\n",
    "    if sum(list(common_divisors(num))) == num:\n",
    "        print(f\"{num} is perfect number\")"
   ]
  },
  {
   "cell_type": "code",
   "execution_count": 42,
   "metadata": {},
   "outputs": [
    {
     "name": "stdout",
     "output_type": "stream",
     "text": [
      "['Examples', 'of', 'contractions', 'include', \"don't\", \"isn't\", 'and', \"wouldn't\"]\n"
     ]
    }
   ],
   "source": [
    "#Only the Words\n",
    "import re\n",
    "\n",
    "pattern = re.compile(r'[\\,\\.\\?\\-\\:\\'\\!\\;](\\s+|$)')\n",
    "\n",
    "text = \"Examples of contractions include: don't, isn't, and wouldn't.\"\n",
    "\n",
    "cleaned_text = pattern.sub(r'\\1', text)\n",
    "\n",
    "print(cleaned_text.split(' '))\n"
   ]
  },
  {
   "cell_type": "code",
   "execution_count": 43,
   "metadata": {},
   "outputs": [
    {
     "name": "stdout",
     "output_type": "stream",
     "text": [
      "Enter integer value, to stop press enter without any value : 1\n",
      "Enter integer value, to stop press enter without any value : 36\n",
      "Enter integer value, to stop press enter without any value : 2\n",
      "Enter integer value, to stop press enter without any value : 5\n",
      "Enter integer value, to stop press enter without any value : 4\n",
      "Enter integer value, to stop press enter without any value : 8\n",
      "Enter integer value, to stop press enter without any value : 10\n",
      "Enter integer value, to stop press enter without any value : 6\n",
      "Enter integer value, to stop press enter without any value : \n",
      "average of all values provided 9.0\n",
      "all values below average value [1, 2, 5, 4, 8, 6]\n",
      "all values above average value [36, 10]\n"
     ]
    }
   ],
   "source": [
    "# Below and Above Average\n",
    "\n",
    "flag = True\n",
    "num_list = []\n",
    "while flag:\n",
    "    num = input(\"Enter integer value, to stop press enter without any value : \")\n",
    "    if num != '':\n",
    "        num_list.append(int(num))\n",
    "    else:\n",
    "        flag= False\n",
    "        \n",
    "avg = sum(num_list)/len(num_list)\n",
    "\n",
    "print(f\"average of all values provided {avg}\")\n",
    "print(f\"all values below average value {[i for i in num_list if i <= avg]}\")\n",
    "print(f\"all values above average value {[i for i in num_list if i > avg]}\")"
   ]
  },
  {
   "cell_type": "code",
   "execution_count": 56,
   "metadata": {},
   "outputs": [
    {
     "name": "stdout",
     "output_type": "stream",
     "text": [
      "Enter space separated value from list : apples oranges bananas lemons\n",
      "apples, oranges, bananas and lemons\n"
     ]
    }
   ],
   "source": [
    "#Formatting a List\n",
    "\n",
    "def formatting_list(in_list):\n",
    "    if len(in_list)==1:\n",
    "        return in_list[0]\n",
    "    elif len(in_list)==2:\n",
    "        return ' and '.join(in_list)\n",
    "    else:\n",
    "        last_item = in_list.pop()\n",
    "        return ', '.join(in_list) + ' and ' + last_item\n",
    "    \n",
    "\n",
    "input_list = input(\"Enter space separated value from list : \").split()\n",
    "    \n",
    "print(formatting_list(input_list))"
   ]
  },
  {
   "cell_type": "code",
   "execution_count": 41,
   "metadata": {},
   "outputs": [
    {
     "data": {
      "text/plain": [
       "[18, 20, 45, 67, 84, 89]"
      ]
     },
     "execution_count": 41,
     "metadata": {},
     "output_type": "execute_result"
    }
   ],
   "source": [
    "#Random Lottery Numbers\n",
    "import random\n",
    "\n",
    "sorted(random.sample(range(1,99), 6))"
   ]
  },
  {
   "cell_type": "code",
   "execution_count": 127,
   "metadata": {},
   "outputs": [
    {
     "data": {
      "text/plain": [
       "True"
      ]
     },
     "execution_count": 127,
     "metadata": {},
     "output_type": "execute_result"
    }
   ],
   "source": [
    "'A'.isupper()"
   ]
  },
  {
   "cell_type": "code",
   "execution_count": 140,
   "metadata": {},
   "outputs": [
    {
     "name": "stdout",
     "output_type": "stream",
     "text": [
      "Omputecayr\n",
      "inthayk\n",
      "Algorithwaym\n",
      "officwaye\n",
      "Iencescay!\n"
     ]
    }
   ],
   "source": [
    "#Pig Latin & #Pig Latin Improved\n",
    "vowel_list = ['a','e','i','o','u']\n",
    "\n",
    "text = 'Computer think Algorithm office Science!'\n",
    "\n",
    "for word in text.split():\n",
    "    if (ord(word[-1]) not in list(range(65-91))) and (ord(word[-1]) not in list(range(97-123))):\n",
    "        last_item = word[-1]\n",
    "        if word[0].lower() in vowel_list:\n",
    "            final_word = word[:-1]+'way'+last_item\n",
    "            print(final_word)\n",
    "        else:\n",
    "            ul_status  = word[0].isupper()\n",
    "            initial = ''\n",
    "            index = 0\n",
    "            for letter in word:\n",
    "                if letter in vowel_list:\n",
    "                    break\n",
    "                else:\n",
    "                    index += 1\n",
    "                    initial += letter.lower()\n",
    "            final_word = word[index:-1]+initial+'ay'+last_item\n",
    "            if ul_status : print(final_word.capitalize())\n",
    "            else: print(final_word)\n",
    "    else:\n",
    "        if word[0].lower() in vowel_list:\n",
    "            final_word = word+'way'\n",
    "            print(final_word)\n",
    "        else:\n",
    "            ul_status  = word[0].isupper()\n",
    "            initial = ''\n",
    "            index = 0\n",
    "            for letter in word:\n",
    "                if letter in vowel_list:\n",
    "                    break\n",
    "                else:\n",
    "                    index += 1\n",
    "                    initial += letter.lower()\n",
    "            final_word = word[index:]+initial+'ay'\n",
    "            if ul_status : print(final_word.capitalize())\n",
    "            else: print(final_word)"
   ]
  },
  {
   "cell_type": "code",
   "execution_count": 21,
   "metadata": {},
   "outputs": [
    {
     "name": "stdout",
     "output_type": "stream",
     "text": [
      "Enter space separated integer value as x and y coordinates, to stop press enter without any value : 1 1\n",
      "Enter space separated integer value as x and y coordinates, to stop press enter without any value : 2 2.1\n",
      "Enter space separated integer value as x and y coordinates, to stop press enter without any value : 3 2.9\n",
      "Enter space separated integer value as x and y coordinates, to stop press enter without any value : \n",
      "Display equation results\n",
      "y=0.95x+0.1\n"
     ]
    }
   ],
   "source": [
    "#Line of Best Fit\n",
    "\n",
    "flag = True\n",
    "num_list = []\n",
    "while flag:\n",
    "    num = input(\"Enter space separated integer value as x and y coordinates, to stop press enter without any value : \")\n",
    "    if num != '':\n",
    "        num_list.append(list(map(float, num.split())))\n",
    "    else:\n",
    "        flag= False\n",
    "        \n",
    "x, y = list(zip(*num_list))\n",
    "n = len(num_list)\n",
    "sum_xy = sum([i[0]*i[1] for i in num_list])\n",
    "sum_xsq = sum([i**2 for i in x])\n",
    "\n",
    "m = (sum_xy - ((sum(x) * sum(y))/n))/(sum_xsq - ((sum(x)**2)/n))\n",
    "x_avg = sum(x)/n\n",
    "y_avg = sum(y)/n\n",
    "\n",
    "b = y_avg - m*x_avg\n",
    "\n",
    "print(\"Display equation results\")\n",
    "print(f\"y={m:.2f}x+{b:.1f}\")"
   ]
  },
  {
   "cell_type": "code",
   "execution_count": 260,
   "metadata": {},
   "outputs": [],
   "source": [
    "#Shuffling a Deck of Cards\n",
    "from itertools import product\n",
    "import random\n",
    "\n",
    "\n",
    "def createDeck():\n",
    "    numbers = list(map(str, range(2,10)))\n",
    "    characters = ['T','J','Q','K','A']\n",
    "    numbers.extend(characters)\n",
    "    suits = ['c','d','h','s']\n",
    "    \n",
    "    return list(map(lambda x:x[0]+x[1], list(product(numbers,suits))))\n",
    "    \n",
    "\n",
    "def shuffle(deck):\n",
    "    print(f\"Original Deck of cards {deck}\")\n",
    "    \n",
    "    l1 = random.sample(range(0,30), 22)\n",
    "    \n",
    "    sl1 = []\n",
    "    \n",
    "    for n in l1:\n",
    "        sl1.append(deck.pop(n))\n",
    "    \n",
    "    sl1.extend(deck)\n",
    "    \n",
    "    print(f\"\\nShuffled Deck of cards {sl1}\")\n",
    "    \n",
    "    return sl1"
   ]
  },
  {
   "cell_type": "code",
   "execution_count": 276,
   "metadata": {},
   "outputs": [
    {
     "name": "stdout",
     "output_type": "stream",
     "text": [
      "Original Deck of cards ['2c', '2d', '2h', '2s', '3c', '3d', '3h', '3s', '4c', '4d', '4h', '4s', '5c', '5d', '5h', '5s', '6c', '6d', '6h', '6s', '7c', '7d', '7h', '7s', '8c', '8d', '8h', '8s', '9c', '9d', '9h', '9s', 'Tc', 'Td', 'Th', 'Ts', 'Jc', 'Jd', 'Jh', 'Js', 'Qc', 'Qd', 'Qh', 'Qs', 'Kc', 'Kd', 'Kh', 'Ks', 'Ac', 'Ad', 'Ah', 'As']\n",
      "\n",
      "Shuffled Deck of cards ['9d', '6s', '8s', '3h', '7h', '2c', '9s', '6d', '5s', '3c', '5c', 'Th', '8d', 'Ts', '2s', 'Qh', '7c', '4d', '7d', '5d', 'Qc', 'Kd', '2d', '2h', '3d', '3s', '4c', '4h', '4s', '5h', '6c', '6h', '7s', '8c', '8h', '9c', '9h', 'Tc', 'Td', 'Jc', 'Jd', 'Jh', 'Js', 'Qd', 'Qs', 'Kc', 'Kh', 'Ks', 'Ac', 'Ad', 'Ah', 'As']\n"
     ]
    }
   ],
   "source": [
    "sdeck = shuffle(createDeck())"
   ]
  },
  {
   "cell_type": "code",
   "execution_count": 291,
   "metadata": {},
   "outputs": [],
   "source": [
    "def deal(nhands, ncardperhand, deck):\n",
    "    \n",
    "    hands_list = [[sdeck[x] for x in range(y,nhands*ncardperhand,nhands)]\n",
    "                            for y in range(nhands)]\n",
    "    \n",
    "    print(*hands_list, sep='\\n')"
   ]
  },
  {
   "cell_type": "code",
   "execution_count": 278,
   "metadata": {},
   "outputs": [
    {
     "name": "stdout",
     "output_type": "stream",
     "text": [
      "['9d', '6s', '8s', '3h', '7h', '2c', '9s', '6d', '5s', '3c', '5c', 'Th', '8d', 'Ts', '2s', 'Qh', '7c', '4d', '7d', '5d', 'Qc', 'Kd', '2d', '2h', '3d', '3s', '4c', '4h', '4s', '5h', '6c', '6h', '7s', '8c', '8h', '9c', '9h', 'Tc', 'Td', 'Jc', 'Jd', 'Jh', 'Js', 'Qd', 'Qs', 'Kc', 'Kh', 'Ks', 'Ac', 'Ad', 'Ah', 'As']\n"
     ]
    }
   ],
   "source": [
    "print(sdeck)"
   ]
  },
  {
   "cell_type": "code",
   "execution_count": 292,
   "metadata": {},
   "outputs": [
    {
     "name": "stdout",
     "output_type": "stream",
     "text": [
      "['9d', '7h', '5s', '8d', '7c']\n",
      "['6s', '2c', '3c', 'Ts', '4d']\n",
      "['8s', '9s', '5c', '2s', '7d']\n",
      "['3h', '6d', 'Th', 'Qh', '5d']\n"
     ]
    }
   ],
   "source": [
    "deal(4,5,sdeck)"
   ]
  },
  {
   "cell_type": "code",
   "execution_count": 311,
   "metadata": {},
   "outputs": [
    {
     "name": "stdout",
     "output_type": "stream",
     "text": [
      "Enter space separated integer value : 2 3 4 5 6 7\n",
      "True\n"
     ]
    }
   ],
   "source": [
    "# Is a List already in Sorted Order?\n",
    "\n",
    "num_list = input(\"Enter space separated integer value : \").split()\n",
    "\n",
    "def issorted(nlist):\n",
    "    if (len(nlist) == 0):\n",
    "        return 'Empty list'\n",
    "    \n",
    "    if (len(nlist) == 1) and nlist[0] != '':\n",
    "        return 'Only one Element in the list'\n",
    "    \n",
    "    if (len(nlist) > 1):\n",
    "        nlist = list(map(int, nlist))\n",
    "        return nlist == sorted(nlist)\n",
    "    \n",
    "\n",
    "print(issorted(num_list))"
   ]
  },
  {
   "cell_type": "code",
   "execution_count": 1,
   "metadata": {},
   "outputs": [
    {
     "name": "stdout",
     "output_type": "stream",
     "text": [
      "Enter space separated numeric value : 2 3 5 12 34 60 10 50 15 20 25\n",
      "Enter space separated min and max value : 10 50\n",
      "5\n"
     ]
    }
   ],
   "source": [
    "#Count the Elements\n",
    "num_list = list(map(float, input(\"Enter space separated numeric value : \").split()))\n",
    "min_val, max_val = list(map(float, input(\"Enter space separated min and max value : \").split()))\n",
    "\n",
    "def countRange(nlist, min_val, max_val):\n",
    "    counter = 0\n",
    "    for n in nlist:\n",
    "        if (n>min_val) and (n<max_val):\n",
    "            counter +=1\n",
    "    return counter\n",
    "\n",
    "print(countRange(num_list, min_val, max_val))"
   ]
  }
 ],
 "metadata": {
  "kernelspec": {
   "display_name": "Python 3",
   "language": "python",
   "name": "python3"
  },
  "language_info": {
   "codemirror_mode": {
    "name": "ipython",
    "version": 3
   },
   "file_extension": ".py",
   "mimetype": "text/x-python",
   "name": "python",
   "nbconvert_exporter": "python",
   "pygments_lexer": "ipython3",
   "version": "3.7.1"
  }
 },
 "nbformat": 4,
 "nbformat_minor": 2
}
